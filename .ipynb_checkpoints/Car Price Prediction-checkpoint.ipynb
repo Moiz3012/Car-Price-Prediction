{
 "cells": [
  {
   "cell_type": "code",
   "execution_count": 1,
   "id": "cf7138f0-d2bb-4b16-885e-253774491bfc",
   "metadata": {},
   "outputs": [],
   "source": [
    "import numpy as np\n",
    "import pandas as pd\n",
    "import matplotlib.pyplot as plt\n",
    "import math\n",
    "import copy\n"
   ]
  },
  {
   "cell_type": "code",
   "execution_count": 28,
   "id": "1a89c524-c799-469b-871d-3423daf95817",
   "metadata": {},
   "outputs": [],
   "source": [
    "df = pd.read_csv(\"car_prediction_data.csv\")\n",
    "df_encoded = pd.get_dummies(df, columns=['Car_Name','Fuel_Type', 'Seller_Type', 'Transmission'], drop_first= True)\n",
    "df_encoded = df_encoded.astype(int)\n",
    "X_train = df_encoded.drop('Selling_Price', axis=1).values\n",
    "y_train = df_encoded['Selling_Price'].values\n"
   ]
  },
  {
   "cell_type": "markdown",
   "id": "ca277e1a-89eb-421b-8889-7e3ef22c7a27",
   "metadata": {},
   "source": [
    "## Normalize The Data"
   ]
  },
  {
   "cell_type": "code",
   "execution_count": 29,
   "id": "10abd6ae-1b3f-42ec-86b4-6139113e6ef8",
   "metadata": {},
   "outputs": [],
   "source": [
    "X_mean = np.mean(X_train, axis=0)\n",
    "X_std = np.std(X_train, axis=0)\n",
    "X_norm = (X_train - X_mean)/X_std"
   ]
  },
  {
   "cell_type": "markdown",
   "id": "bab22597-1abc-4bc3-8a20-137928c73942",
   "metadata": {},
   "source": [
    "## Cost Function"
   ]
  },
  {
   "cell_type": "code",
   "execution_count": 34,
   "id": "4162ec90-ccf3-48d4-a267-4f26f7632f8d",
   "metadata": {},
   "outputs": [],
   "source": [
    "def compute_cost(X,y,w,b):\n",
    "    m = X.shape[0]\n",
    "    f_wb = np.zeros(m)\n",
    "    total_cost = 0\n",
    "    cost_sum=0\n",
    "    for i in range(m):\n",
    "        f_wb = np.dot(X[i], w) + b\n",
    "        init_cost = (f_wb - y[i])**2\n",
    "        cost_sum += init_cost\n",
    "    total_cost = (1/(2*m))*cost_sum\n",
    "    return total_cost\n",
    "        "
   ]
  },
  {
   "cell_type": "markdown",
   "id": "ccf070a5-ae28-49ee-a9e7-91a90f6e07cf",
   "metadata": {},
   "source": [
    "## Compute Gradient"
   ]
  },
  {
   "cell_type": "code",
   "execution_count": 35,
   "id": "0c7b81cc-366c-46ba-8d08-a31792b7238e",
   "metadata": {},
   "outputs": [],
   "source": [
    "def compute_gradient(X, y, w, b): \n",
    "    m,n = X.shape           #(number of examples, number of features)\n",
    "    dj_dw = np.zeros((n,))\n",
    "    dj_db = 0.\n",
    "\n",
    "    for i in range(m):                             \n",
    "        err = (np.dot(X[i], w) + b) - y[i]   \n",
    "        for j in range(n):                         \n",
    "            dj_dw[j] = dj_dw[j] + err * X[i, j]    \n",
    "        dj_db = dj_db + err                        \n",
    "    dj_dw = dj_dw / m                                \n",
    "    dj_db = dj_db / m                                \n",
    "        \n",
    "    return dj_db, dj_dw"
   ]
  },
  {
   "cell_type": "markdown",
   "id": "cab653ef-a909-4c75-924c-04b071d7d163",
   "metadata": {},
   "source": [
    "## Gradient Descend"
   ]
  },
  {
   "cell_type": "code",
   "execution_count": 36,
   "id": "9e041279-0c3d-41fb-86f9-c7343946f094",
   "metadata": {},
   "outputs": [],
   "source": [
    "def gradient_descent(X, y, w_in, b_in, cost_function, gradient_function, alpha, num_iters): \n",
    "    \n",
    "    J_history = []\n",
    "    w = copy.deepcopy(w_in)  \n",
    "    b = b_in\n",
    "    \n",
    "    for i in range(num_iters):\n",
    "\n",
    "        # Calculate the gradient and update the parameters\n",
    "        dj_db,dj_dw = gradient_function(X, y, w, b)   ##None\n",
    "\n",
    "        # Update Parameters using w, b, alpha and gradient\n",
    "        w = w - alpha * dj_dw               ##None\n",
    "        b = b - alpha * dj_db               ##None\n",
    "      \n",
    "        # Save cost J at each iteration\n",
    "        if i<100000:      # prevent resource exhaustion \n",
    "            J_history.append( cost_function(X, y, w, b))\n",
    "\n",
    "        # Print cost every at intervals 10 times or as many iterations if < 10\n",
    "        if i% math.ceil(num_iters / 10) == 0:\n",
    "            print(f\"Iteration {i:4d}: Cost {J_history[-1]:8.2f}   \")\n",
    "        \n",
    "    return w, b, J_history #return final w,b and J history for graphing"
   ]
  },
  {
   "cell_type": "code",
   "execution_count": null,
   "id": "896bf04a-de42-4542-b3ed-6938fa17d6ac",
   "metadata": {},
   "outputs": [],
   "source": [
    "# initialize parameters\n",
    "initial_w = np.zeros(X_norm.shape[1])\n",
    "initial_b = 0\n",
    "# some gradient descent settings\n",
    "alpha = 0.01  # Much smaller for unscaled features\n",
    "iterations = 2000  # More iterations needed\n",
    "# run gradient descent \n",
    "w_final, b_final, J_hist = gradient_descent(X_norm, y_train, initial_w, initial_b,\n",
    "                                                    compute_cost, compute_gradient, \n",
    "                                                    alpha, iterations)\n",
    "print(f\"b,w found by gradient descent: {b_final:0.2f},{w_final} \")\n",
    "m,_ = X_norm.shape\n",
    "for i in range(m):\n",
    "    pred = np.dot(X_norm[i], w_final) + b_final\n",
    "    print(f\"prediction: {pred:0.2f}, target value: {y_train[i]}\")\n"
   ]
  },
  {
   "cell_type": "code",
   "execution_count": null,
   "id": "59296035-53f4-481f-ba2a-6db244f596d6",
   "metadata": {},
   "outputs": [],
   "source": []
  }
 ],
 "metadata": {
  "kernelspec": {
   "display_name": "Python 3 (ipykernel)",
   "language": "python",
   "name": "python3"
  },
  "language_info": {
   "codemirror_mode": {
    "name": "ipython",
    "version": 3
   },
   "file_extension": ".py",
   "mimetype": "text/x-python",
   "name": "python",
   "nbconvert_exporter": "python",
   "pygments_lexer": "ipython3",
   "version": "3.13.1"
  }
 },
 "nbformat": 4,
 "nbformat_minor": 5
}
